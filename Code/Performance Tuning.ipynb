{
 "cells": [
  {
   "cell_type": "code",
   "execution_count": 1,
   "metadata": {},
   "outputs": [],
   "source": [
    "from keras.preprocessing.text import one_hot\n",
    "from keras.preprocessing.sequence import pad_sequences\n",
    "from keras.models import Sequential\n",
    "from keras.layers.core import Activation, Dropout, Dense\n",
    "from keras.layers import Flatten, LSTM\n",
    "from keras.layers import GlobalMaxPooling1D\n",
    "from keras.models import Model, load_model\n",
    "from keras.layers.embeddings import Embedding\n",
    "from sklearn.model_selection import train_test_split\n",
    "from keras.preprocessing.text import Tokenizer\n",
    "from keras.layers import Input\n",
    "from keras.layers.merge import Concatenate\n",
    "from keras.layers import Bidirectional\n",
    "\n",
    "%matplotlib inline\n",
    "import nltk\n",
    "import re\n",
    "import matplotlib\n",
    "import numpy as np\n",
    "import matplotlib.pyplot as plt\n",
    "import pandas as pd\n",
    "from nltk.stem import PorterStemmer\n",
    "from nltk.stem.wordnet import WordNetLemmatizer\n",
    "from sklearn.model_selection import train_test_split\n",
    "from sklearn.feature_extraction.text import TfidfVectorizer\n",
    "from sklearn.naive_bayes import MultinomialNB\n",
    "from sklearn.metrics import accuracy_score, f1_score\n",
    "from sklearn.multiclass import OneVsRestClassifier\n",
    "from nltk.corpus import stopwords\n",
    "stop_words = set(stopwords.words('english'))\n",
    "from sklearn.svm import LinearSVC\n",
    "from sklearn.linear_model import LogisticRegression\n",
    "from sklearn.pipeline import Pipeline\n",
    "import seaborn as sns\n"
   ]
  },
  {
   "cell_type": "code",
   "execution_count": 2,
   "metadata": {},
   "outputs": [],
   "source": [
    "def remove_pattern(input_txt, pattern):\n",
    "    r = re.findall(pattern, input_txt)\n",
    "    for i in r:\n",
    "        input_txt = re.sub(i, '', input_txt)\n",
    "        \n",
    "    return input_txt   "
   ]
  },
  {
   "cell_type": "code",
   "execution_count": 4,
   "metadata": {},
   "outputs": [
    {
     "name": "stdout",
     "output_type": "stream",
     "text": [
      "(6838, 14)\n"
     ]
    },
    {
     "data": {
      "text/plain": [
       "0    worry payment problem may never joyce meyer mo...\n",
       "1                 whatever decide make sure make happy\n",
       "2    also help majority nfl coach inept some bill b...\n",
       "3    accept challenge literally even feel exhilarat...\n",
       "4    roommate okay spell autocorrect terrible first...\n",
       "5        cute atsu probably shy photos cherry help uwu\n",
       "6             think humans sense recognize impend doom\n",
       "7    rooneys fuck untouchable be fuck dreadful depa...\n",
       "8         pretty depress hit pan favourite highlighter\n",
       "9    pussy weak hear stfu bitch you get threaten pr...\n",
       "Name: tidy_Tweet, dtype: object"
      ]
     },
     "execution_count": 4,
     "metadata": {},
     "output_type": "execute_result"
    }
   ],
   "source": [
    "#TODO1 : remove url links. remove stop words. \n",
    "#save the tidy_tweet part into a text file to verify the validity.\n",
    "\n",
    "df_train = pd.read_csv('data\\\\training\\\\2018-E-c-En-train.txt', sep=\"\\t\")\n",
    "df_train['tidy_Tweet'] = np.vectorize(remove_pattern)(df_train['Tweet'], \"@[\\w]*\") \n",
    "#df_train['tidy_Tweet'] = df_train['tidy_Tweet'].str.replace(\"[^a-zA-Z#]\", \" \")\n",
    "df_train['tidy_Tweet'] = df_train['tidy_Tweet'].str.replace(\"[^a-zA-Z]\", \" \")\n",
    "df_train['tidy_Tweet'] = df_train['tidy_Tweet'].apply(lambda x: ' '.join([w for w in x.split() if len(w)>2]))\n",
    "\n",
    "df_train['tidy_Tweet'] = df_train['tidy_Tweet'].apply(lambda x: ' '.join([word.lower() for word in x.split() if word not in stop_words]))\n",
    "ps = PorterStemmer()\n",
    "lmtzr = WordNetLemmatizer()\n",
    "df_train['tidy_Tweet'] = df_train['tidy_Tweet'].apply(lambda x: ' '.join([lmtzr.lemmatize(w,'v') for w in x.split()]))\n",
    "#df_train['tidy_Tweet'][:10].to_csv('tidy_Tweet.csv')\n",
    "print(df_train.shape)\n",
    "df_train['tidy_Tweet'][:10]"
   ]
  },
  {
   "cell_type": "code",
   "execution_count": 6,
   "metadata": {},
   "outputs": [
    {
     "name": "stdout",
     "output_type": "stream",
     "text": [
      "(886, 14)\n"
     ]
    },
    {
     "data": {
      "text/plain": [
       "0            hide revenge anger rememberthe time rebut\n",
       "1                                  make sure smile bro\n",
       "2    teamchristine tana do provoke tweet shady shit...\n",
       "3    great start beginners jump auto trade profitab...\n",
       "4            best friends drive first time car terrify\n",
       "5    hey field skibbereen give online delivery serv...\n",
       "6    why emmerdale rob robron first child together ...\n",
       "7    would like hear podcast go refute entire artic...\n",
       "8    hear one time intimidate men go explode why gu...\n",
       "9                                      depression suck\n",
       "Name: tidy_Tweet, dtype: object"
      ]
     },
     "execution_count": 6,
     "metadata": {},
     "output_type": "execute_result"
    }
   ],
   "source": [
    "#TODO1 : remove url links. remove stop words. \n",
    "#save the tidy_tweet part into a text file to verify the validity.\n",
    "\n",
    "df_dev = pd.read_csv('data\\\\training\\\\2018-E-c-En-dev.txt', sep=\"\\t\")\n",
    "df_dev['tidy_Tweet'] = np.vectorize(remove_pattern)(df_dev['Tweet'], \"@[\\w]*\") \n",
    "#df_train['tidy_Tweet'] = df_train['tidy_Tweet'].str.replace(\"[^a-zA-Z#]\", \" \")\n",
    "df_dev['tidy_Tweet'] = df_dev['tidy_Tweet'].str.replace(\"[^a-zA-Z]\", \" \")\n",
    "df_dev['tidy_Tweet'] = df_dev['tidy_Tweet'].apply(lambda x: ' '.join([w for w in x.split() if len(w)>2]))\n",
    "df_dev['tidy_Tweet'] = df_dev['tidy_Tweet'].apply(lambda x: ' '.join([word.lower() for word in x.split() if word not in stop_words]))\n",
    "ps = PorterStemmer()\n",
    "lmtzr = WordNetLemmatizer()\n",
    "df_dev['tidy_Tweet'] = df_dev['tidy_Tweet'].apply(lambda x: ' '.join([lmtzr.lemmatize(w,'v') for w in x.split()]))\n",
    "print(df_dev.shape)\n",
    "df_dev['tidy_Tweet'][:10]"
   ]
  },
  {
   "cell_type": "code",
   "execution_count": 7,
   "metadata": {},
   "outputs": [
    {
     "name": "stdout",
     "output_type": "stream",
     "text": [
      "(6838,) (886,)\n",
      "(7724,)\n"
     ]
    }
   ],
   "source": [
    "#TODO0:\n",
    "#still use 2018-E-c-En-train.txt as training data, but split it to X_train+X_val to be use dfor model_fit() \n",
    "#use 2018-E-c-En-dev.txt  as Test data (new X_test, y_test)  (887 lines)\n",
    "#X_train, X_test, y_train, y_test = train_test_split(df_train.tidy_Tweet, df_train.drop(labels = ['ID','Tweet','tidy_Tweet'], axis=1), test_size=0.20, random_state=42)\n",
    "#X_train, X_val, y_train, y_val = train_test_split(df_train.tidy_Tweet, df_train.drop(labels = ['ID','Tweet','tidy_Tweet'], axis=1), test_size=0.20, random_state=42)\n",
    "X_train = df_train.tidy_Tweet\n",
    "y_train = df_train.drop(labels = ['ID','Tweet','tidy_Tweet'], axis=1)\n",
    "X_dev = df_dev.tidy_Tweet\n",
    "y_dev = df_dev.drop(labels = ['ID','Tweet','tidy_Tweet'], axis=1)\n",
    "                    \n",
    "\n",
    "print(X_train.shape, X_dev.shape)\n",
    "X_train_dev = pd.concat([X_train, X_dev])\n",
    "#print(type(X_train), type(X_dev))\n",
    "print(X_train_dev.shape)\n",
    "#print(newX[:10])\n"
   ]
  },
  {
   "cell_type": "code",
   "execution_count": 8,
   "metadata": {},
   "outputs": [
    {
     "name": "stdout",
     "output_type": "stream",
     "text": [
      "vocab_size: 11232\n"
     ]
    }
   ],
   "source": [
    "#TODO 4: num_words: 10000 --> \n",
    "tokenizer = Tokenizer(num_words=10000)\n",
    "#fix\n",
    "#tokenizer.fit_on_texts(X_train)\n",
    "#tokenizer.fit_on_texts(X_test)\n",
    " \n",
    "tokenizer.fit_on_texts(X_train_dev)\n",
    " \n",
    "X_train = tokenizer.texts_to_sequences(X_train)\n",
    "X_dev = tokenizer.texts_to_sequences(X_dev) #887 line\n",
    "\n",
    "vocab_size = len(tokenizer.word_index) + 1\n",
    "\n",
    "maxlen = 150\n",
    "embed_size = 200\n",
    "\n",
    "X_train = pad_sequences(X_train, padding='post', maxlen=maxlen)\n",
    "X_dev = pad_sequences(X_dev, padding='post', maxlen=maxlen)\n",
    "print(\"vocab_size:\", vocab_size)"
   ]
  },
  {
   "cell_type": "code",
   "execution_count": 9,
   "metadata": {},
   "outputs": [],
   "source": [
    "model = load_model('LSTM_model_ver1.h5')"
   ]
  },
  {
   "cell_type": "code",
   "execution_count": 10,
   "metadata": {},
   "outputs": [],
   "source": [
    "def accuracy (y_dev, predictions, size):\n",
    "    #a=predictions.toarray()\n",
    "    a=predictions\n",
    "    b=y_dev.to_numpy()\n",
    "    U = np.zeros((size,11), dtype = np.int64)\n",
    "    I = np.zeros((size,11), dtype = np.int64)\n",
    "    sum=0\n",
    "    for i in range(0,size):\n",
    "        for j in range(0,10):\n",
    "            if a[i][j]==1 or b[i][j]==1:\n",
    "                U[i][j]=1\n",
    "    for i in range(0,size):\n",
    "        for j in range(0,10):\n",
    "            if a[i][j]==1 and b[i][j]==1:\n",
    "                I[i][j]=1\n",
    "    for i in range(0,size):\n",
    "        if U[i].tolist().count(1) == 0:\n",
    "            sum = sum + 1\n",
    "        else:\n",
    "            sum = sum + I[i].tolist().count(1)/U[i].tolist().count(1)\n",
    "    return sum/size"
   ]
  },
  {
   "cell_type": "code",
   "execution_count": 13,
   "metadata": {},
   "outputs": [
    {
     "name": "stdout",
     "output_type": "stream",
     "text": [
      "(886, 11)\n",
      "<class 'numpy.ndarray'>\n"
     ]
    },
    {
     "data": {
      "image/png": "[encoded data removed]",
      "text/plain": [
       "<Figure size 864x432 with 1 Axes>"
      ]
     },
     "metadata": {},
     "output_type": "display_data"
    }
   ],
   "source": [
    "from sklearn.metrics import hamming_loss\n",
    "#cc_classifier = ClassifierChain(SVC(kernel='linear', probability=True))\n",
    "#cc_classifier.fit(x_train, y_train)\n",
    "#cc_predictions_proba = cc_classifier.predict_proba(x_dev)\n",
    "\n",
    "predictions=model.predict(X_dev)\n",
    "print(predictions.shape)\n",
    "print(type(predictions))\n",
    "#for plotting metrics as a function of threashold\n",
    "th = []\n",
    "f = []\n",
    "ham = []\n",
    "ac = []\n",
    "imp = []\n",
    "for t in range (5,60): # threshold value\n",
    "    y_pred_new = (predictions >= t/100).astype(int)\n",
    "    #print(\"t =\" ,t/100)\n",
    "    #print(\"Accuracy = \",accuracy_score(y_dev,y_pred_new))\n",
    "    #print(\"F1 = \",f1_score(y_dev,y_pred_new, average=\"micro\"))\n",
    "    #print(\"Hamming loss = \",hamming_loss(y_dev,y_pred_new))\n",
    "    #print(\"imp = \",accuracy(y_dev,y_pred_new, X_dev.shape[0]))\n",
    "    th.append(t/100)\n",
    "    #ac.append(accuracy_score(y_dev,y_pred_new))\n",
    "    f.append(f1_score(y_dev,y_pred_new, average=\"micro\"))\n",
    "    ham.append(hamming_loss(y_dev,y_pred_new))\n",
    "    imp.append(accuracy(y_dev,y_pred_new, X_dev.shape[0]))\n",
    "plt.rcParams[\"figure.figsize\"] = (12,6)\n",
    "with plt.style.context('ggplot'):\n",
    "    plt.plot(th, f, linewidth = 4)\n",
    "    plt.plot(th, imp, linewidth = 4)\n",
    "    #plt.plot(th, ham, linewidth = 4)\n",
    "    #plt.plot(th, ac, linewidth = 4)\n",
    "    plt.legend(['F1_micro', 'Accuracy', 'Hamming loss'], loc='lower right', fontsize = 24)\n",
    "    plt.xticks(fontsize = 24)\n",
    "    plt.yticks(fontsize = 24)\n",
    "    plt.ylabel(\"Scores\", fontsize = 24)\n",
    "    plt.xlabel(\"Prediction Probability Threshold\", fontsize = 24)\n",
    "    #plt.title(\"Performance Tuning\", fontsize = 24)\n",
    "plt.show()\n"
   ]
  }
 ],
 "metadata": {
  "kernelspec": {
   "display_name": "Python 3",
   "language": "python",
   "name": "python3"
  },
  "language_info": {
   "codemirror_mode": {
    "name": "ipython",
    "version": 3
   },
   "file_extension": ".py",
   "mimetype": "text/x-python",
   "name": "python",
   "nbconvert_exporter": "python",
   "pygments_lexer": "ipython3",
   "version": "3.8.8"
  }
 },
 "nbformat": 4,
 "nbformat_minor": 4
}
