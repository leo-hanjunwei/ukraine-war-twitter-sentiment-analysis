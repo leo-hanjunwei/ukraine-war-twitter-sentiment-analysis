{
 "cells": [
  {
   "cell_type": "code",
   "execution_count": 1,
   "metadata": {},
   "outputs": [],
   "source": [
    "%matplotlib inline\n",
    "import nltk\n",
    "import re\n",
    "import matplotlib\n",
    "import numpy as np\n",
    "import matplotlib.pyplot as plt\n",
    "import pandas as pd\n",
    "from nltk.stem import PorterStemmer\n",
    "from nltk.stem.wordnet import WordNetLemmatizer\n",
    "from sklearn.model_selection import train_test_split\n",
    "from sklearn.feature_extraction.text import TfidfVectorizer\n",
    "from sklearn.naive_bayes import MultinomialNB\n",
    "from sklearn.metrics import accuracy_score, f1_score\n",
    "from sklearn.multiclass import OneVsRestClassifier\n",
    "from nltk.corpus import stopwords\n",
    "stop_words = set(stopwords.words('english'))\n",
    "from sklearn.svm import LinearSVC\n",
    "from sklearn.linear_model import LogisticRegression\n",
    "from sklearn.pipeline import Pipeline\n",
    "import seaborn as sns\n"
   ]
  },
  {
   "cell_type": "code",
   "execution_count": 2,
   "metadata": {},
   "outputs": [],
   "source": [
    "def remove_pattern(input_txt, pattern):\n",
    "    r = re.findall(pattern, input_txt)\n",
    "    for i in r:\n",
    "        input_txt = re.sub(i, '', input_txt)\n",
    "        \n",
    "    return input_txt   "
   ]
  },
  {
   "cell_type": "code",
   "execution_count": 3,
   "metadata": {},
   "outputs": [],
   "source": [
    "#nltk.download('wordnet')"
   ]
  },
  {
   "cell_type": "code",
   "execution_count": 4,
   "metadata": {
    "scrolled": true
   },
   "outputs": [
    {
     "name": "stdout",
     "output_type": "stream",
     "text": [
      "(6838, 14)\n"
     ]
    },
    {
     "data": {
      "text/plain": [
       "0    worry payment problem may never joyce meyer mo...\n",
       "1                 whatever decide make sure make happy\n",
       "2    also help majority nfl coach inept some bill b...\n",
       "3    accept challenge literally even feel exhilarat...\n",
       "4    roommate okay spell autocorrect terrible first...\n",
       "5        cute atsu probably shy photos cherry help uwu\n",
       "6             think humans sense recognize impend doom\n",
       "7    rooneys fuck untouchable be fuck dreadful depa...\n",
       "8         pretty depress hit pan favourite highlighter\n",
       "9    pussy weak hear stfu bitch you get threaten pr...\n",
       "Name: tidy_Tweet, dtype: object"
      ]
     },
     "execution_count": 4,
     "metadata": {},
     "output_type": "execute_result"
    }
   ],
   "source": [
    "df_train = pd.read_csv('data/training/2018-E-c-En-train.txt', sep=\"\\t\")\n",
    "df_train['tidy_Tweet'] = np.vectorize(remove_pattern)(df_train['Tweet'], \"@[\\w]*\") \n",
    "#df_train['tidy_Tweet'] = df_train['tidy_Tweet'].str.replace(\"[^a-zA-Z#]\", \" \")\n",
    "df_train['tidy_Tweet'] = df_train['tidy_Tweet'].str.replace(\"[^a-zA-Z]\", \" \")\n",
    "df_train['tidy_Tweet'] = df_train['tidy_Tweet'].apply(lambda x: ' '.join([w for w in x.split() if len(w)>2]))\n",
    "\n",
    "df_train['tidy_Tweet'] = df_train['tidy_Tweet'].apply(lambda x: ' '.join([word.lower() for word in x.split() if word not in stop_words]))\n",
    "ps = PorterStemmer()\n",
    "lmtzr = WordNetLemmatizer()\n",
    "df_train['tidy_Tweet'] = df_train['tidy_Tweet'].apply(lambda x: ' '.join([lmtzr.lemmatize(w,'v') for w in x.split()]))\n",
    "#df_train['tidy_Tweet'][:10].to_csv('tidy_Tweet.csv')\n",
    "print(df_train.shape)\n",
    "df_train['tidy_Tweet'][:10]"
   ]
  },
  {
   "cell_type": "code",
   "execution_count": 5,
   "metadata": {
    "scrolled": true
   },
   "outputs": [
    {
     "name": "stdout",
     "output_type": "stream",
     "text": [
      "(886, 14)\n"
     ]
    },
    {
     "data": {
      "text/plain": [
       "0            hide revenge anger rememberthe time rebut\n",
       "1                                  make sure smile bro\n",
       "2    teamchristine tana do provoke tweet shady shit...\n",
       "3    great start beginners jump auto trade profitab...\n",
       "4            best friends drive first time car terrify\n",
       "5    hey field skibbereen give online delivery serv...\n",
       "6    why emmerdale rob robron first child together ...\n",
       "7    would like hear podcast go refute entire artic...\n",
       "8    hear one time intimidate men go explode why gu...\n",
       "9                                      depression suck\n",
       "Name: tidy_Tweet, dtype: object"
      ]
     },
     "execution_count": 5,
     "metadata": {},
     "output_type": "execute_result"
    }
   ],
   "source": [
    "df_dev = pd.read_csv('data/training/2018-E-c-En-dev.txt', sep=\"\\t\")\n",
    "df_dev['tidy_Tweet'] = np.vectorize(remove_pattern)(df_dev['Tweet'], \"@[\\w]*\") \n",
    "#df_train['tidy_Tweet'] = df_train['tidy_Tweet'].str.replace(\"[^a-zA-Z#]\", \" \")\n",
    "df_dev['tidy_Tweet'] = df_dev['tidy_Tweet'].str.replace(\"[^a-zA-Z]\", \" \")\n",
    "df_dev['tidy_Tweet'] = df_dev['tidy_Tweet'].apply(lambda x: ' '.join([w for w in x.split() if len(w)>2]))\n",
    "df_dev['tidy_Tweet'] = df_dev['tidy_Tweet'].apply(lambda x: ' '.join([word.lower() for word in x.split() if word not in stop_words]))\n",
    "ps = PorterStemmer()\n",
    "lmtzr = WordNetLemmatizer()\n",
    "df_dev['tidy_Tweet'] = df_dev['tidy_Tweet'].apply(lambda x: ' '.join([lmtzr.lemmatize(w,'v') for w in x.split()]))\n",
    "print(df_dev.shape)\n",
    "df_dev['tidy_Tweet'][:10]"
   ]
  },
  {
   "cell_type": "code",
   "execution_count": 6,
   "metadata": {
    "scrolled": true
   },
   "outputs": [],
   "source": [
    "#pip install keras"
   ]
  },
  {
   "cell_type": "code",
   "execution_count": 7,
   "metadata": {},
   "outputs": [],
   "source": [
    "#pip install tensorflow"
   ]
  },
  {
   "cell_type": "code",
   "execution_count": 20,
   "metadata": {},
   "outputs": [],
   "source": [
    "from keras.preprocessing.text import one_hot\n",
    "from keras.preprocessing.sequence import pad_sequences\n",
    "from keras.models import Sequential\n",
    "from keras.layers.core import Activation, Dropout, Dense\n",
    "from keras.layers import Flatten, LSTM\n",
    "from keras.layers import GlobalMaxPooling1D\n",
    "from keras.models import Model, load_model\n",
    "from keras.layers.embeddings import Embedding\n",
    "from sklearn.model_selection import train_test_split\n",
    "from keras.preprocessing.text import Tokenizer\n",
    "from keras.layers import Input\n",
    "from keras.layers.merge import Concatenate\n",
    "from keras.layers import Bidirectional"
   ]
  },
  {
   "cell_type": "code",
   "execution_count": 9,
   "metadata": {},
   "outputs": [
    {
     "name": "stdout",
     "output_type": "stream",
     "text": [
      "(6838,) (886,)\n",
      "(7724,)\n"
     ]
    }
   ],
   "source": [
    "X_train = df_train.tidy_Tweet\n",
    "y_train = df_train.drop(labels = ['ID','Tweet','tidy_Tweet'], axis=1)\n",
    "X_dev = df_dev.tidy_Tweet\n",
    "y_dev = df_dev.drop(labels = ['ID','Tweet','tidy_Tweet'], axis=1)\n",
    "                    \n",
    "#combine train and dev dataset to a bigger training data\n",
    "print(X_train.shape, X_dev.shape)\n",
    "X_train_dev = pd.concat([X_train, X_dev])\n",
    "#print(type(X_train), type(X_dev))\n",
    "print(X_train_dev.shape)\n",
    "#print(newX[:10])\n"
   ]
  },
  {
   "cell_type": "code",
   "execution_count": 10,
   "metadata": {},
   "outputs": [
    {
     "name": "stdout",
     "output_type": "stream",
     "text": [
      "vocab_size: 11232\n"
     ]
    }
   ],
   "source": [
    "tokenizer = Tokenizer(num_words=10000)\n",
    "\n",
    "#tokenizer.fit_on_texts(X_train)\n",
    "#tokenizer.fit_on_texts(X_test)\n",
    " \n",
    "tokenizer.fit_on_texts(X_train_dev)\n",
    " \n",
    "X_train = tokenizer.texts_to_sequences(X_train)\n",
    "X_dev = tokenizer.texts_to_sequences(X_dev) #887 line\n",
    "\n",
    "vocab_size = len(tokenizer.word_index) + 1\n",
    "\n",
    "maxlen = 150\n",
    "embed_size = 200\n",
    "\n",
    "X_train = pad_sequences(X_train, padding='post', maxlen=maxlen)\n",
    "X_dev = pad_sequences(X_dev, padding='post', maxlen=maxlen)\n",
    "print(\"vocab_size:\", vocab_size)"
   ]
  },
  {
   "cell_type": "code",
   "execution_count": 11,
   "metadata": {},
   "outputs": [
    {
     "data": {
      "text/plain": [
       "(6838, 150)"
      ]
     },
     "execution_count": 11,
     "metadata": {},
     "output_type": "execute_result"
    }
   ],
   "source": [
    "X_train.shape"
   ]
  },
  {
   "cell_type": "code",
   "execution_count": 12,
   "metadata": {},
   "outputs": [
    {
     "name": "stdout",
     "output_type": "stream",
     "text": [
      "0 word:  <user>\n",
      "1 word:  .\n",
      "2 word:  :\n",
      "3 word:  rt\n",
      "4 word:  ,\n",
      "5 word:  <repeat>\n",
      "6 word:  <hashtag>\n",
      "7 word:  <number>\n",
      "8 word:  <url>\n",
      "9 word:  !\n",
      "0 word:  get , index:  1\n",
      "1 word:  like , index:  2\n",
      "2 word:  amp , index:  3\n",
      "3 word:  make , index:  4\n",
      "4 word:  know , index:  5\n",
      "5 word:  time , index:  6\n",
      "6 word:  the , index:  7\n",
      "7 word:  love , index:  8\n",
      "8 word:  people , index:  9\n",
      "9 word:  think , index:  10\n",
      "1193514 11231 9627\n"
     ]
    }
   ],
   "source": [
    "from numpy import array\n",
    "from numpy import asarray\n",
    "from numpy import zeros\n",
    "\n",
    "embeddings_dictionary = dict()\n",
    "\n",
    "glove_file = open('glove.twitter.27B.200d.txt', encoding=\"utf8\")\n",
    "cnt1 = 0\n",
    "for line in glove_file:\n",
    "    \n",
    "    records = line.split()\n",
    "    word = records[0]\n",
    "    vector_dimensions = asarray(records[1:], dtype='float32')\n",
    "    embeddings_dictionary[word] = vector_dimensions\n",
    "    if (cnt1 < 10):\n",
    "        print(cnt1, \"word: \", word)\n",
    "    cnt1 += 1\n",
    "glove_file.close()\n",
    "\n",
    "cnt2 = 0\n",
    "cnt3 = 0\n",
    "embedding_matrix = zeros((vocab_size, embed_size))\n",
    "for word, index in tokenizer.word_index.items():\n",
    "    embedding_vector = embeddings_dictionary.get(word)\n",
    "    if (cnt2 < 10):\n",
    "        print(cnt2, \"word: \", word, \", index: \", index)\n",
    "    cnt2 += 1\n",
    "    if embedding_vector is not None:\n",
    "        cnt3 += 1\n",
    "        embedding_matrix[index] = embedding_vector\n",
    "print(cnt1, cnt2, cnt3)"
   ]
  },
  {
   "cell_type": "code",
   "execution_count": 13,
   "metadata": {},
   "outputs": [],
   "source": [
    "deep_inputs = Input(shape=(None,))\n",
    "\n",
    "embedding_layer = Embedding(vocab_size, embed_size, weights=[embedding_matrix], trainable=False)(deep_inputs)\n",
    "#LSTM_Layer_1 = LSTM(128, dropout=0.2, recurrent_dropout=0.2)(embedding_layer) #128 memory cells, https://keras.io/api/layers/recurrent_layers/lstm/\n",
    "#LSTM_Layer_1 = LSTM(64, dropout=0.2, recurrent_dropout=0.2)(embedding_layer)\n",
    "bidirectional_1 = Bidirectional(LSTM(64, return_sequences=True))(embedding_layer)\n",
    "bidirectional_2 = Bidirectional(LSTM(64))(bidirectional_1)\n",
    "dense_layer_1 = Dense(11, activation='sigmoid')(bidirectional_2)\n",
    "model = Model(inputs=deep_inputs, outputs=dense_layer_1)\n",
    "\n",
    "model.compile(loss='binary_crossentropy', optimizer='adam')\n",
    "#model.compile(loss='categorical_crossentropy', optimizer='adam', metrics=[f1])"
   ]
  },
  {
   "cell_type": "markdown",
   "metadata": {},
   "source": [
    "#Old\n",
    "#deep_inputs = Input(shape=(maxlen,))\n",
    "deep_inputs = Input(shape=(None,))\n",
    "\n",
    "embedding_layer = Embedding(vocab_size, 200, weights=[embedding_matrix], trainable=False)(deep_inputs)\n",
    "LSTM_Layer_1 = LSTM(128, dropout=0.2, recurrent_dropout=0.2)(embedding_layer) #128 memory cells, https://keras.io/api/layers/recurrent_layers/lstm/\n",
    "#LSTM_Layer_1 = LSTM(64, dropout=0.2, recurrent_dropout=0.2)(embedding_layer)\n",
    "dense_layer_1 = Dense(11, activation='sigmoid')(LSTM_Layer_1)\n",
    "model = Model(inputs=deep_inputs, outputs=dense_layer_1)\n",
    "\n",
    "#model.compile(loss='binary_crossentropy', optimizer='adam', metrics=['acc'])\n",
    "model.compile(loss='categorical_crossentropy', optimizer='adam', metrics=[f1])"
   ]
  },
  {
   "cell_type": "code",
   "execution_count": 14,
   "metadata": {},
   "outputs": [
    {
     "name": "stdout",
     "output_type": "stream",
     "text": [
      "Model: \"functional_1\"\n",
      "_________________________________________________________________\n",
      "Layer (type)                 Output Shape              Param #   \n",
      "=================================================================\n",
      "input_1 (InputLayer)         [(None, None)]            0         \n",
      "_________________________________________________________________\n",
      "embedding (Embedding)        (None, None, 200)         2246400   \n",
      "_________________________________________________________________\n",
      "bidirectional (Bidirectional (None, None, 128)         135680    \n",
      "_________________________________________________________________\n",
      "bidirectional_1 (Bidirection (None, 128)               98816     \n",
      "_________________________________________________________________\n",
      "dense (Dense)                (None, 11)                1419      \n",
      "=================================================================\n",
      "Total params: 2,482,315\n",
      "Trainable params: 235,915\n",
      "Non-trainable params: 2,246,400\n",
      "_________________________________________________________________\n",
      "None\n"
     ]
    }
   ],
   "source": [
    "print(model.summary())"
   ]
  },
  {
   "cell_type": "code",
   "execution_count": 15,
   "metadata": {},
   "outputs": [],
   "source": [
    "#pip install pydot"
   ]
  },
  {
   "cell_type": "markdown",
   "metadata": {},
   "source": [
    "from keras.utils import plot_model\n",
    "plot_model(model, to_file='model_plot4a.png', show_shapes=True, show_layer_names=True)"
   ]
  },
  {
   "cell_type": "code",
   "execution_count": 16,
   "metadata": {
    "scrolled": false
   },
   "outputs": [
    {
     "name": "stdout",
     "output_type": "stream",
     "text": [
      "Epoch 1/8\n",
      "86/86 [==============================] - 19s 224ms/step - loss: 0.4563 - val_loss: 0.3975\n",
      "Epoch 2/8\n",
      "86/86 [==============================] - 18s 207ms/step - loss: 0.3855 - val_loss: 0.3710\n",
      "Epoch 3/8\n",
      "86/86 [==============================] - 18s 210ms/step - loss: 0.3534 - val_loss: 0.3521\n",
      "Epoch 4/8\n",
      "86/86 [==============================] - 18s 212ms/step - loss: 0.3303 - val_loss: 0.3479\n",
      "Epoch 5/8\n",
      "86/86 [==============================] - 18s 208ms/step - loss: 0.3129 - val_loss: 0.3389\n",
      "Epoch 6/8\n",
      "86/86 [==============================] - 18s 212ms/step - loss: 0.2967 - val_loss: 0.3425\n",
      "Epoch 7/8\n",
      "86/86 [==============================] - 18s 214ms/step - loss: 0.2825 - val_loss: 0.3450\n",
      "Epoch 8/8\n",
      "86/86 [==============================] - 18s 214ms/step - loss: 0.2713 - val_loss: 0.3479\n"
     ]
    }
   ],
   "source": [
    "history = model.fit(X_train, y_train, batch_size=64, epochs=8, verbose=1, validation_split=0.2)"
   ]
  },
  {
   "cell_type": "markdown",
   "metadata": {
    "scrolled": true
   },
   "source": [
    "history = model.fit(X_train, y_train, batch_size=64, epochs=15, verbose=1, validation_split=0.2)"
   ]
  },
  {
   "cell_type": "code",
   "execution_count": 17,
   "metadata": {},
   "outputs": [
    {
     "name": "stdout",
     "output_type": "stream",
     "text": [
      "(886, 11)\n",
      "Micro-average quality numbers\n",
      "Precision: 0.4456, Recall: 0.8561, F1-measure: 0.5861\n",
      "Micro-average quality numbers\n",
      "Precision: 0.5424, Recall: 0.7612, F1-measure: 0.6334\n",
      "Micro-average quality numbers\n",
      "Precision: 0.6195, Recall: 0.6849, F1-measure: 0.6505\n",
      "Micro-average quality numbers\n",
      "Precision: 0.6822, Recall: 0.6289, F1-measure: 0.6545\n",
      "Micro-average quality numbers\n",
      "Precision: 0.7310, Recall: 0.5835, F1-measure: 0.6490\n",
      "Micro-average quality numbers\n",
      "Precision: 0.7751, Recall: 0.5215, F1-measure: 0.6235\n",
      "Micro-average quality numbers\n",
      "Precision: 0.8273, Recall: 0.4433, F1-measure: 0.5773\n",
      "Micro-average quality numbers\n",
      "Precision: 0.8563, Recall: 0.3503, F1-measure: 0.4972\n",
      "Micro-average quality numbers\n",
      "Precision: 0.8996, Recall: 0.2365, F1-measure: 0.3745\n"
     ]
    }
   ],
   "source": [
    "from sklearn.metrics import f1_score, precision_score, recall_score, confusion_matrix\n",
    "#predictions=model.predict([padded_docs_test])\n",
    "predictions=model.predict(X_dev)\n",
    "print(predictions.shape)\n",
    "thresholds=[0.1,0.2,0.3,0.4,0.5,0.6,0.7,0.8,0.9]\n",
    "for val in thresholds:\n",
    "    pred=predictions.copy()\n",
    "  \n",
    "    pred[pred>=val]=1\n",
    "    pred[pred<val]=0\n",
    "  \n",
    "    precision = precision_score(y_dev, pred, average='micro')\n",
    "    recall = recall_score(y_dev, pred, average='micro')\n",
    "    f1 = f1_score(y_dev, pred, average='micro')\n",
    "   \n",
    "    print(\"Micro-average quality numbers\")\n",
    "    print(\"Precision: {:.4f}, Recall: {:.4f}, F1-measure: {:.4f}\".format(precision, recall, f1))"
   ]
  },
  {
   "cell_type": "code",
   "execution_count": 18,
   "metadata": {},
   "outputs": [],
   "source": [
    "def accuracy (y_dev, predictions, size):\n",
    "    #a=predictions.toarray()\n",
    "    a=predictions\n",
    "    b=y_dev.to_numpy()\n",
    "    U = np.zeros((size,11), dtype = np.int64)\n",
    "    I = np.zeros((size,11), dtype = np.int64)\n",
    "    sum=0\n",
    "    for i in range(0,size):\n",
    "        for j in range(0,10):\n",
    "            if a[i][j]==1 or b[i][j]==1:\n",
    "                U[i][j]=1\n",
    "    for i in range(0,size):\n",
    "        for j in range(0,10):\n",
    "            if a[i][j]==1 and b[i][j]==1:\n",
    "                I[i][j]=1\n",
    "    for i in range(0,size):\n",
    "        if U[i].tolist().count(1) == 0:\n",
    "            sum = sum + 1\n",
    "        else:\n",
    "            sum = sum + I[i].tolist().count(1)/U[i].tolist().count(1)\n",
    "    return sum/size"
   ]
  },
  {
   "cell_type": "code",
   "execution_count": 19,
   "metadata": {},
   "outputs": [
    {
     "name": "stdout",
     "output_type": "stream",
     "text": [
      "(886, 11)\n",
      "<class 'numpy.ndarray'>\n",
      "t = 0.05\n",
      "Accuracy =  0.006772009029345372\n",
      "F1 =  0.5263574064312071\n",
      "Hamming loss =  0.3687666735070798\n",
      "imp =  0.4023119782149123\n",
      "t = 0.06\n",
      "Accuracy =  0.012415349887133182\n",
      "F1 =  0.5416265308930783\n",
      "Hamming loss =  0.34178124358711265\n",
      "imp =  0.42128659213873604\n",
      "t = 0.07\n",
      "Accuracy =  0.016930022573363433\n",
      "F1 =  0.554855342308794\n",
      "Hamming loss =  0.3189000615637185\n",
      "imp =  0.4372980042280266\n",
      "t = 0.08\n",
      "Accuracy =  0.029345372460496615\n",
      "F1 =  0.5666815012609405\n",
      "Hamming loss =  0.29971270264723987\n",
      "imp =  0.45027455301157304\n",
      "t = 0.09\n",
      "Accuracy =  0.03837471783295711\n",
      "F1 =  0.5780914390917459\n",
      "Hamming loss =  0.28216704288939054\n",
      "imp =  0.46159527392597344\n",
      "t = 0.1\n",
      "Accuracy =  0.04853273137697517\n",
      "F1 =  0.5860921907175669\n",
      "Hamming loss =  0.26810999384362816\n",
      "imp =  0.46889085957934673\n",
      "t = 0.11\n",
      "Accuracy =  0.05981941309255079\n",
      "F1 =  0.595959595959596\n",
      "Hamming loss =  0.2544633695875231\n",
      "imp =  0.477293614962915\n",
      "t = 0.12\n",
      "Accuracy =  0.06659142212189616\n",
      "F1 =  0.6035404141616567\n",
      "Hamming loss =  0.24358711266160477\n",
      "imp =  0.4864640438568202\n",
      "t = 0.13\n",
      "Accuracy =  0.06884875846501129\n",
      "F1 =  0.6086510514617882\n",
      "Hamming loss =  0.23486558588138723\n",
      "imp =  0.49001800494464137\n",
      "t = 0.14\n",
      "Accuracy =  0.07674943566591422\n",
      "F1 =  0.6176470588235294\n",
      "Hamming loss =  0.22409193515288323\n",
      "imp =  0.4988162420724498\n",
      "t = 0.15\n",
      "Accuracy =  0.08126410835214447\n",
      "F1 =  0.6225875625446747\n",
      "Hamming loss =  0.21670428893905191\n",
      "imp =  0.5030890572933463\n",
      "t = 0.16\n",
      "Accuracy =  0.08465011286681716\n",
      "F1 =  0.624544792425346\n",
      "Hamming loss =  0.21157397906833572\n",
      "imp =  0.5064051918735891\n",
      "t = 0.17\n",
      "Accuracy =  0.09706546275395034\n",
      "F1 =  0.6263187118267629\n",
      "Hamming loss =  0.2071619125795198\n",
      "imp =  0.5093370418144685\n",
      "t = 0.18\n",
      "Accuracy =  0.10270880361173815\n",
      "F1 =  0.6281425891181989\n",
      "Hamming loss =  0.20336548327518983\n",
      "imp =  0.511984037407288\n",
      "t = 0.19\n",
      "Accuracy =  0.11060948081264109\n",
      "F1 =  0.630517503805175\n",
      "Hamming loss =  0.19926123537861687\n",
      "imp =  0.5144590454692033\n",
      "t = 0.2\n",
      "Accuracy =  0.11851015801354402\n",
      "F1 =  0.633423180592992\n",
      "Hamming loss =  0.19536219987687256\n",
      "imp =  0.5170361711275933\n",
      "t = 0.21\n",
      "Accuracy =  0.12415349887133183\n",
      "F1 =  0.6354920759146938\n",
      "Hamming loss =  0.1911553457828853\n",
      "imp =  0.5202689992475547\n",
      "t = 0.22\n",
      "Accuracy =  0.12979683972911965\n",
      "F1 =  0.6358771060455897\n",
      "Hamming loss =  0.18848758465011287\n",
      "imp =  0.5199518972374503\n",
      "t = 0.23\n",
      "Accuracy =  0.136568848758465\n",
      "F1 =  0.6366185897435898\n",
      "Hamming loss =  0.1861276421095834\n",
      "imp =  0.5214836611845642\n",
      "t = 0.24\n",
      "Accuracy =  0.14672686230248308\n",
      "F1 =  0.6379520520113775\n",
      "Hamming loss =  0.18284424379232506\n",
      "imp =  0.523880737396539\n",
      "t = 0.25\n",
      "Accuracy =  0.16027088036117382\n",
      "F1 =  0.6433739921438908\n",
      "Hamming loss =  0.1769956905397086\n",
      "imp =  0.5301246909599057\n",
      "t = 0.26\n",
      "Accuracy =  0.16817155756207675\n",
      "F1 =  0.6462699077954737\n",
      "Hamming loss =  0.17319926123537863\n",
      "imp =  0.5334730732021931\n",
      "t = 0.27\n",
      "Accuracy =  0.17720090293453725\n",
      "F1 =  0.6482465462274176\n",
      "Hamming loss =  0.16981325672070594\n",
      "imp =  0.536095883048479\n",
      "t = 0.28\n",
      "Accuracy =  0.18171557562076748\n",
      "F1 =  0.650214592274678\n",
      "Hamming loss =  0.16724810178534782\n",
      "imp =  0.5390008599376546\n",
      "t = 0.29\n",
      "Accuracy =  0.18623024830699775\n",
      "F1 =  0.6513043478260868\n",
      "Hamming loss =  0.1645803406525754\n",
      "imp =  0.5412393851445769\n",
      "t = 0.3\n",
      "Accuracy =  0.19525959367945825\n",
      "F1 =  0.6505494505494505\n",
      "Hamming loss =  0.1631438538887749\n",
      "imp =  0.5419542083198966\n",
      "t = 0.31\n",
      "Accuracy =  0.208803611738149\n",
      "F1 =  0.6523090586145648\n",
      "Hamming loss =  0.16068130515083112\n",
      "imp =  0.5450365473503169\n",
      "t = 0.32\n",
      "Accuracy =  0.21218961625282168\n",
      "F1 =  0.6526504137776784\n",
      "Hamming loss =  0.1593474245844449\n",
      "imp =  0.5459851660754594\n",
      "t = 0.33\n",
      "Accuracy =  0.22234762979683972\n",
      "F1 =  0.6539941163159086\n",
      "Hamming loss =  0.15688487584650113\n",
      "imp =  0.5478286574223368\n",
      "t = 0.34\n",
      "Accuracy =  0.22686230248307\n",
      "F1 =  0.654179990863408\n",
      "Hamming loss =  0.15534578288528628\n",
      "imp =  0.5472267010641728\n",
      "t = 0.35\n",
      "Accuracy =  0.22799097065462753\n",
      "F1 =  0.6537842190016102\n",
      "Hamming loss =  0.15442232710855736\n",
      "imp =  0.5466435558422015\n",
      "t = 0.36\n",
      "Accuracy =  0.23363431151241534\n",
      "F1 =  0.6545961002785515\n",
      "Hamming loss =  0.15267802175251385\n",
      "imp =  0.5474148124260991\n",
      "t = 0.37\n",
      "Accuracy =  0.23589164785553046\n",
      "F1 =  0.6549460853258322\n",
      "Hamming loss =  0.15103632259388466\n",
      "imp =  0.5470950231108246\n",
      "t = 0.38\n",
      "Accuracy =  0.23927765237020315\n",
      "F1 =  0.6543822348216395\n",
      "Hamming loss =  0.15011286681715574\n",
      "imp =  0.5459556057185855\n",
      "t = 0.39\n",
      "Accuracy =  0.24266365688487584\n",
      "F1 =  0.6553860819828408\n",
      "Hamming loss =  0.14836856146111224\n",
      "imp =  0.5473100075244546\n",
      "t = 0.4\n",
      "Accuracy =  0.24040632054176073\n",
      "F1 =  0.654466650614014\n",
      "Hamming loss =  0.1472398932895547\n",
      "imp =  0.5456170052671183\n",
      "t = 0.41\n",
      "Accuracy =  0.24379232505643342\n",
      "F1 =  0.6545454545454545\n",
      "Hamming loss =  0.14621383131541146\n",
      "imp =  0.5456922498118888\n",
      "t = 0.42\n",
      "Accuracy =  0.24604966139954854\n",
      "F1 =  0.654296875\n",
      "Hamming loss =  0.14529037553868254\n",
      "imp =  0.5450714823175321\n",
      "t = 0.43\n",
      "Accuracy =  0.2505643340857788\n",
      "F1 =  0.654536513400541\n",
      "Hamming loss =  0.14416170736712497\n",
      "imp =  0.5446952595936796\n",
      "t = 0.44\n",
      "Accuracy =  0.2528216704288939\n",
      "F1 =  0.6551126516464472\n",
      "Hamming loss =  0.14293043299815308\n",
      "imp =  0.545334838224229\n",
      "t = 0.45\n",
      "Accuracy =  0.24943566591422123\n",
      "F1 =  0.6535393818544367\n",
      "Hamming loss =  0.14262261440591012\n",
      "imp =  0.5412151993980436\n",
      "t = 0.46\n",
      "Accuracy =  0.24943566591422123\n",
      "F1 =  0.6527742907356264\n",
      "Hamming loss =  0.14190437102400985\n",
      "imp =  0.5406132430398797\n",
      "t = 0.47\n",
      "Accuracy =  0.24830699774266365\n",
      "F1 =  0.650833754421425\n",
      "Hamming loss =  0.14180176482659554\n",
      "imp =  0.5383370955605719\n",
      "t = 0.48\n",
      "Accuracy =  0.24830699774266365\n",
      "F1 =  0.6480304955527318\n",
      "Hamming loss =  0.1421095834188385\n",
      "imp =  0.5354401805869073\n",
      "t = 0.49\n",
      "Accuracy =  0.24830699774266365\n",
      "F1 =  0.6484275121452314\n",
      "Hamming loss =  0.14108352144469527\n",
      "imp =  0.5347065462753949\n",
      "t = 0.5\n",
      "Accuracy =  0.2516930022573363\n",
      "F1 =  0.6489963973237263\n",
      "Hamming loss =  0.1399548532731377\n",
      "imp =  0.5352708803611738\n",
      "t = 0.51\n",
      "Accuracy =  0.25395033860045146\n",
      "F1 =  0.6465696465696466\n",
      "Hamming loss =  0.1395444284834804\n",
      "imp =  0.5333145221971407\n",
      "t = 0.52\n",
      "Accuracy =  0.2584650112866817\n",
      "F1 =  0.6464909992173232\n",
      "Hamming loss =  0.13903139749640878\n",
      "imp =  0.5352896914973663\n",
      "t = 0.53\n",
      "Accuracy =  0.2562076749435666\n",
      "F1 =  0.6437204414083026\n",
      "Hamming loss =  0.13913400369382312\n",
      "imp =  0.5305492851768246\n",
      "t = 0.54\n",
      "Accuracy =  0.255079006772009\n",
      "F1 =  0.6398518126488488\n",
      "Hamming loss =  0.13964703468089473\n",
      "imp =  0.5262227238525206\n",
      "t = 0.55\n",
      "Accuracy =  0.2505643340857788\n",
      "F1 =  0.6356135214266703\n",
      "Hamming loss =  0.1404678842602093\n",
      "imp =  0.5218585402558313\n",
      "t = 0.56\n",
      "Accuracy =  0.24943566591422123\n",
      "F1 =  0.6340939597315437\n",
      "Hamming loss =  0.13985224707572338\n",
      "imp =  0.5192249811888637\n",
      "t = 0.57\n",
      "Accuracy =  0.24379232505643342\n",
      "F1 =  0.6312364425162689\n",
      "Hamming loss =  0.1395444284834804\n",
      "imp =  0.5148231753197893\n",
      "t = 0.58\n",
      "Accuracy =  0.24604966139954854\n",
      "F1 =  0.6291643910431457\n",
      "Hamming loss =  0.13933921608865177\n",
      "imp =  0.5137885628291948\n",
      "t = 0.59\n",
      "Accuracy =  0.24492099322799096\n",
      "F1 =  0.6273649574993146\n",
      "Hamming loss =  0.13944182228606608\n",
      "imp =  0.5115500376222724\n"
     ]
    },
    {
     "data": {
      "image/png": "[encoded data removed]",
      "text/plain": [
       "<Figure size 864x432 with 1 Axes>"
      ]
     },
     "metadata": {},
     "output_type": "display_data"
    }
   ],
   "source": [
    "from sklearn.metrics import hamming_loss\n",
    "#cc_classifier = ClassifierChain(SVC(kernel='linear', probability=True))\n",
    "#cc_classifier.fit(x_train, y_train)\n",
    "#cc_predictions_proba = cc_classifier.predict_proba(x_dev)\n",
    "\n",
    "predictions=model.predict(X_dev)\n",
    "print(predictions.shape)\n",
    "print(type(predictions))\n",
    "#for plotting metrics as a function of threashold\n",
    "th = []\n",
    "f = []\n",
    "ham = []\n",
    "ac = []\n",
    "imp = []\n",
    "for t in range (5,60): # threshold value\n",
    "    y_pred_new = (predictions >= t/100).astype(int)\n",
    "    print(\"t =\" ,t/100)\n",
    "    print(\"Accuracy = \",accuracy_score(y_dev,y_pred_new))\n",
    "    print(\"F1 = \",f1_score(y_dev,y_pred_new, average=\"micro\"))\n",
    "    print(\"Hamming loss = \",hamming_loss(y_dev,y_pred_new))\n",
    "    print(\"imp = \",accuracy(y_dev,y_pred_new, X_dev.shape[0]))\n",
    "    th.append(t)\n",
    "    ac.append(accuracy_score(y_dev,y_pred_new))\n",
    "    f.append(f1_score(y_dev,y_pred_new, average=\"micro\"))\n",
    "    ham.append(hamming_loss(y_dev,y_pred_new))\n",
    "    imp.append(accuracy(y_dev,y_pred_new, X_dev.shape[0]))\n",
    "plt.rcParams[\"figure.figsize\"] = (12,6)\n",
    "with plt.style.context('ggplot'):\n",
    "    plt.plot(th, f)\n",
    "    plt.plot(th, ham)\n",
    "    plt.plot(th, ac)\n",
    "    plt.plot(th, imp)\n",
    "    plt.legend(['F1', 'Hamming loss', 'Accuracy', 'Improved Accuracy'], loc='center left', fontsize = 14)\n",
    "    plt.ylabel(\"metrics\", fontsize = 14)\n",
    "    plt.xlabel(\"threshold\", fontsize = 14)\n",
    "    plt.title(\"LSRM Model\", fontsize = 18)\n",
    "plt.show()\n"
   ]
  },
  {
   "cell_type": "code",
   "execution_count": 21,
   "metadata": {},
   "outputs": [],
   "source": [
    "model.save('LSTM_model_ver1.h5')"
   ]
  }
 ],
 "metadata": {
  "kernelspec": {
   "display_name": "Python 3",
   "language": "python",
   "name": "python3"
  },
  "language_info": {
   "codemirror_mode": {
    "name": "ipython",
    "version": 3
   },
   "file_extension": ".py",
   "mimetype": "text/x-python",
   "name": "python",
   "nbconvert_exporter": "python",
   "pygments_lexer": "ipython3",
   "version": "3.8.8"
  }
 },
 "nbformat": 4,
 "nbformat_minor": 4
}
